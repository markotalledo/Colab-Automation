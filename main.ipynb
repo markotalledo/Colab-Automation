{
  "cells": [
    {
      "cell_type": "code",
      "execution_count": null,
      "metadata": {
        "colab": {
          "base_uri": "https://localhost:8080/"
        },
        "id": "_MC-j_GI0fEN",
        "outputId": "a62a83ba-803c-450d-d712-cfcb94fa42ce"
      },
      "outputs": [
        {
          "output_type": "stream",
          "name": "stdout",
          "text": [
            "Looking in indexes: https://pypi.org/simple, https://us-python.pkg.dev/colab-wheels/public/simple/\n",
            "Collecting snowflake-sqlalchemy\n",
            "  Downloading snowflake_sqlalchemy-1.4.4-py2.py3-none-any.whl (32 kB)\n",
            "Collecting snowflake-connector-python<3.0.0\n",
            "  Downloading snowflake_connector_python-2.9.0-cp38-cp38-manylinux_2_17_x86_64.manylinux2014_x86_64.whl (21.3 MB)\n",
            "\u001b[K     |████████████████████████████████| 21.3 MB 1.2 MB/s \n",
            "\u001b[?25hRequirement already satisfied: sqlalchemy<2.0.0,>=1.4.0 in /usr/local/lib/python3.8/dist-packages (from snowflake-sqlalchemy) (1.4.45)\n",
            "Requirement already satisfied: idna<4,>=2.5 in /usr/local/lib/python3.8/dist-packages (from snowflake-connector-python<3.0.0->snowflake-sqlalchemy) (2.10)\n",
            "Collecting pyOpenSSL<23.0.0,>=16.2.0\n",
            "  Downloading pyOpenSSL-22.1.0-py3-none-any.whl (57 kB)\n",
            "\u001b[K     |████████████████████████████████| 57 kB 5.5 MB/s \n",
            "\u001b[?25hRequirement already satisfied: urllib3<1.27,>=1.21.1 in /usr/local/lib/python3.8/dist-packages (from snowflake-connector-python<3.0.0->snowflake-sqlalchemy) (1.24.3)\n",
            "Requirement already satisfied: typing-extensions<5,>=4.3 in /usr/local/lib/python3.8/dist-packages (from snowflake-connector-python<3.0.0->snowflake-sqlalchemy) (4.4.0)\n",
            "Requirement already satisfied: cffi<2.0.0,>=1.9 in /usr/local/lib/python3.8/dist-packages (from snowflake-connector-python<3.0.0->snowflake-sqlalchemy) (1.15.1)\n",
            "Collecting oscrypto<2.0.0\n",
            "  Downloading oscrypto-1.3.0-py2.py3-none-any.whl (194 kB)\n",
            "\u001b[K     |████████████████████████████████| 194 kB 60.3 MB/s \n",
            "\u001b[?25hRequirement already satisfied: requests<3.0.0 in /usr/local/lib/python3.8/dist-packages (from snowflake-connector-python<3.0.0->snowflake-sqlalchemy) (2.23.0)\n",
            "Requirement already satisfied: pytz in /usr/local/lib/python3.8/dist-packages (from snowflake-connector-python<3.0.0->snowflake-sqlalchemy) (2022.6)\n",
            "Requirement already satisfied: charset-normalizer<3,>=2 in /usr/local/lib/python3.8/dist-packages (from snowflake-connector-python<3.0.0->snowflake-sqlalchemy) (2.1.1)\n",
            "Requirement already satisfied: certifi>=2017.4.17 in /usr/local/lib/python3.8/dist-packages (from snowflake-connector-python<3.0.0->snowflake-sqlalchemy) (2022.12.7)\n",
            "Collecting asn1crypto<2.0.0,>0.24.0\n",
            "  Downloading asn1crypto-1.5.1-py2.py3-none-any.whl (105 kB)\n",
            "\u001b[K     |████████████████████████████████| 105 kB 67.6 MB/s \n",
            "\u001b[?25hCollecting pyjwt<3.0.0\n",
            "  Downloading PyJWT-2.6.0-py3-none-any.whl (20 kB)\n",
            "Collecting pycryptodomex!=3.5.0,<4.0.0,>=3.2\n",
            "  Downloading pycryptodomex-3.16.0-cp35-abi3-manylinux_2_5_x86_64.manylinux1_x86_64.manylinux_2_12_x86_64.manylinux2010_x86_64.whl (2.3 MB)\n",
            "\u001b[K     |████████████████████████████████| 2.3 MB 76.5 MB/s \n",
            "\u001b[?25hCollecting cryptography<41.0.0,>=3.1.0\n",
            "  Downloading cryptography-38.0.4-cp36-abi3-manylinux_2_24_x86_64.whl (4.0 MB)\n",
            "\u001b[K     |████████████████████████████████| 4.0 MB 36.7 MB/s \n",
            "\u001b[?25hRequirement already satisfied: filelock<4,>=3.5 in /usr/local/lib/python3.8/dist-packages (from snowflake-connector-python<3.0.0->snowflake-sqlalchemy) (3.8.2)\n",
            "Requirement already satisfied: setuptools>34.0.0 in /usr/local/lib/python3.8/dist-packages (from snowflake-connector-python<3.0.0->snowflake-sqlalchemy) (57.4.0)\n",
            "Requirement already satisfied: pycparser in /usr/local/lib/python3.8/dist-packages (from cffi<2.0.0,>=1.9->snowflake-connector-python<3.0.0->snowflake-sqlalchemy) (2.21)\n",
            "Requirement already satisfied: chardet<4,>=3.0.2 in /usr/local/lib/python3.8/dist-packages (from requests<3.0.0->snowflake-connector-python<3.0.0->snowflake-sqlalchemy) (3.0.4)\n",
            "Requirement already satisfied: greenlet!=0.4.17 in /usr/local/lib/python3.8/dist-packages (from sqlalchemy<2.0.0,>=1.4.0->snowflake-sqlalchemy) (2.0.1)\n",
            "Installing collected packages: cryptography, asn1crypto, pyOpenSSL, pyjwt, pycryptodomex, oscrypto, snowflake-connector-python, snowflake-sqlalchemy\n",
            "Successfully installed asn1crypto-1.5.1 cryptography-38.0.4 oscrypto-1.3.0 pyOpenSSL-22.1.0 pycryptodomex-3.16.0 pyjwt-2.6.0 snowflake-connector-python-2.9.0 snowflake-sqlalchemy-1.4.4\n"
          ]
        }
      ],
      "source": [
        "pip install --upgrade snowflake-sqlalchemy"
      ]
    },
    {
      "cell_type": "code",
      "execution_count": null,
      "metadata": {
        "id": "B-p2tKgN0XiZ"
      },
      "outputs": [],
      "source": [
        "#%%\n",
        "import os\n",
        "\n",
        "import matplotlib.pyplot as plt\n",
        "import numpy as np\n",
        "import pandas as pd\n",
        "import seaborn as sns\n",
        "import statsmodels.api as sm\n",
        "import warnings\n",
        "\n",
        "from snowflake.connector import connect"
      ]
    },
    {
      "cell_type": "code",
      "execution_count": null,
      "metadata": {
        "id": "R-63Sqj20Xib"
      },
      "outputs": [],
      "source": [
        "from snowflake.sqlalchemy import URL\n",
        "from sqlalchemy import create_engine "
      ]
    },
    {
      "cell_type": "code",
      "execution_count": null,
      "metadata": {
        "id": "J-Oea4-J0Xib"
      },
      "outputs": [],
      "source": [
        "Snowflake_conn = create_engine(URL( \n",
        "                          user='valeria.ramon@mercadofavo.com',\n",
        "                          authenticator='externalBrowser',\n",
        "                          account='vta08432.us-east-1',\n",
        "                          database='FAVODATA',\n",
        "                          warehouse='FAVODATA',\n",
        "                          schema='JOURNEY'\n",
        "                          ))\n",
        "\n"
      ]
    },
    {
      "cell_type": "code",
      "execution_count": null,
      "metadata": {
        "id": "k_E-0f_TWTvq"
      },
      "outputs": [],
      "source": [
        "query_creacion_old = '''\n",
        "\n",
        "WITH VR_VENTA_DICIEMBRE as (\n",
        "select \n",
        "cast(a.create_date_time_tz as date) as calendar_date,\n",
        "cast(date_trunc(month, a.create_date_time_tz) as date) as calendar_month,\n",
        "--case when extract(day from calendar_date)<=15 then 1 else 2 as quincena,\n",
        "a.store_url,\n",
        "a.leader_name,\n",
        "--b.tier_net_lm,\n",
        "a.dynamo_customer_id,\n",
        "a.order_number,\n",
        "sum(net_value) AS total\n",
        "--sum(total) over (partition by a.store_url,quincena) as venta_quincenal,\n",
        "from journey.base as a\n",
        "--left join FAVODATA.SNP_SANDBOX.AN_ENTREP_TIER_TEST as b\n",
        "--on a.store_url = b.store_url\n",
        "where create_date_time is not null and order_status not in ('CANCEL' ,'OPEN') and cancel_date_time_tz is null and calendar_month = '2022-12-01'\n",
        "group by 1,2,3,4,5,6\n",
        "order by 1 desc),\n",
        "\n",
        "VR_VENTA_DICIEMBRE_CARTERAS as (\n",
        "  select a.*, b.mentora, b.orientador, b.flag_emprendedor from \n",
        "  VR_VENTA_DICIEMBRE as a\n",
        "  left join\n",
        "  FAVODATA.SNP_UNTRUSTED.CARTERAS_DICIEMBRE as b\n",
        "  on \n",
        "  a.store_url = b.emprendedor\n",
        "  where\n",
        "  b.flag_retencion = 0\n",
        "  and b.flag_emprendedor = 'old'\n",
        "),\n",
        "\n",
        "VR_CARTERAS_DICIEMBRE_FINAL as (\n",
        "select \n",
        "a.mentora,\n",
        "a.orientador,\n",
        "a.store_url,\n",
        "a.leader_name,\n",
        "a.dynamo_customer_id,\n",
        "b.customer_name,\n",
        "sum(a.total) as total_cliente,\n",
        "case when total_cliente >= 100 then 1 else 0 end as flag_bono,\n",
        "case when total_cliente < 100 then round(100 - total_cliente,0) else 0 end as falta\n",
        "from\n",
        "VR_VENTA_DICIEMBRE_CARTERAS as a\n",
        "left join \n",
        "journey.customer as b\n",
        "on a.dynamo_customer_id = b.dynamo_customer_id\n",
        "--poner nombre cliente\n",
        "group by 1,2,3,4,5,6\n",
        "),\n",
        "\n",
        " VR_CARTERAS_DICIEMBRE_TOTALES as (\n",
        "select \n",
        "mentora, \n",
        "orientador,\n",
        "store_url, \n",
        "count(distinct dynamo_customer_id) as clientes,\n",
        "sum(flag_bono) as clientes_bono,\n",
        "case when clientes_bono >=5 then 1 else 0 end flag_graduado\n",
        "from VR_CARTERAS_DICIEMBRE_FINAL\n",
        "group by 1,2,3\n",
        "),\n",
        "\n",
        " VR_CARTERAS_DICIEMBRE_TOTALES_2 as (\n",
        "select \n",
        "mentora, \n",
        "a.orientador,\n",
        "truncate((sum(flag_graduado)/b.cartera),4) as porc_graduados,\n",
        "b.cartera,\n",
        "sum(flag_graduado) as total_graduados,\n",
        "case \n",
        "when porc_graduados >= 0.25 then 100\n",
        "when porc_graduados >= 0.20 then 85\n",
        "when porc_graduados >=0.15 then 70\n",
        "when porc_graduados >= 0.10 then 60\n",
        "when porc_graduados >= 0.06 then 50\n",
        "when porc_graduados >= 0.03 then 40\n",
        "else 0\n",
        "end as ganancia_unitaria,\n",
        "case \n",
        "when porc_graduados >= 0.25 then total_graduados*100\n",
        "when porc_graduados >= 0.20 then total_graduados*85\n",
        "when porc_graduados >= 0.15 then total_graduados*70\n",
        "when porc_graduados >= 0.10 then total_graduados*60\n",
        "when porc_graduados >= 0.06 then total_graduados*50\n",
        "when porc_graduados >= 0.03 then total_graduados*40\n",
        "else 0\n",
        "end as ganancia,\n",
        "case \n",
        "when porc_graduados >= 0.25 then 'max'\n",
        "when 0.2 <= porc_graduados and porc_graduados < 0.25 then 0.25\n",
        "when 0.15 <= porc_graduados and porc_graduados < 0.20 then 0.20\n",
        "when 0.10 <= porc_graduados and porc_graduados < 0.15 then 0.15\n",
        "when 0.06 <= porc_graduados and porc_graduados < 0.10 then 0.10\n",
        "when 0.03 <= porc_graduados and porc_graduados < 0.06 then 0.06\n",
        "else 0.03\n",
        "end as porc_meta,\n",
        "case \n",
        "when porc_graduados >= 0.25 then 'max'\n",
        "when 0.2 <= porc_graduados and porc_graduados < 0.25 then ceil(b.cartera*0.25,0)\n",
        "when 0.15 <= porc_graduados and porc_graduados < 0.20 then ceil(b.cartera*0.20,0)\n",
        "when 0.10 <= porc_graduados and porc_graduados < 0.15 then ceil(b.cartera*0.15,0)\n",
        "when 0.06 <= porc_graduados and porc_graduados < 0.10 then ceil(b.cartera*0.10,0)\n",
        "when 0.03 <= porc_graduados and porc_graduados < 0.06 then ceil(b.cartera*0.06,0)\n",
        "else ceil(b.cartera*0.03,0)\n",
        "end as emprendedores_meta\n",
        "from VR_CARTERAS_DICIEMBRE_TOTALES as a\n",
        "left join FAVODATA.SNP_UNTRUSTED.CARTERAS_DICIEMBRE_TOTAL as b\n",
        "on a.orientador = b.orientador\n",
        "group by 1,2,4\n",
        ")\n",
        "\n",
        "{0}\n",
        "\n",
        "'''\n"
      ]
    },
    {
      "cell_type": "code",
      "source": [
        "query_creacion_new = ''' \n",
        "WITH VR_VENTA_DICIEMBRE_NUEVOS as (select cast(a.create_date_time_tz as date)                    as calendar_date,\n",
        "                                          cast(date_trunc(month, a.create_date_time_tz) as date) as calendar_month,\n",
        "--case when extract(day from calendar_date)<=15 then 1 else 2 as quincena,\n",
        "                                          a.store_url,\n",
        "                                          a.leader_name,\n",
        "--b.tier_net_lm,\n",
        "                                          a.dynamo_customer_id,\n",
        "                                          a.order_number,\n",
        "                                          sum(net_value)                                         AS total\n",
        "--sum(total) over (partition by a.store_url,quincena) as venta_quincenal,\n",
        "                                   from journey.base as a\n",
        "--left join FAVODATA.SNP_SANDBOX.AN_ENTREP_TIER_TEST as b\n",
        "--on a.store_url = b.store_url\n",
        "                                   where create_date_time is not null\n",
        "                                     and order_status not in ('CANCEL', 'OPEN')\n",
        "                                     and cancel_date_time_tz is null\n",
        "                                     and calendar_month = '2022-12-01'\n",
        "                                   group by 1, 2, 3, 4, 5, 6\n",
        "                                   order by 1 desc),\n",
        "\n",
        "VR_VENTA_DICIEMBRE_CARTERAS_NUEVOS as (select a.*, b.mentora, b.orientador, b.flag_emprendedor\n",
        "                                       from VR_VENTA_DICIEMBRE_NUEVOS as a\n",
        "                                                left join\n",
        "                                            FAVODATA.SNP_UNTRUSTED.CARTERAS_DICIEMBRE as b\n",
        "                                            on\n",
        "                                                a.store_url = b.emprendedor\n",
        "                                       where b.flag_retencion = 0\n",
        "                                         and b.flag_emprendedor = 'new'\n",
        "                                       ),\n",
        "\n",
        "VR_CARTERAS_DICIEMBRE_FINAL_NUEVOS as (\n",
        "select\n",
        "a.mentora,\n",
        "a.orientador,\n",
        "a.store_url,\n",
        "a.leader_name,\n",
        "a.dynamo_customer_id,\n",
        "b.customer_name,\n",
        "sum(a.total) as total_cliente,\n",
        "case when total_cliente >= 100 then 1 else 0 end as flag_bono,\n",
        "case when total_cliente < 100 then round(100 - total_cliente,0) else 0 end as falta\n",
        "from\n",
        "VR_VENTA_DICIEMBRE_CARTERAS_NUEVOS as a\n",
        "left join\n",
        "journey.customer as b\n",
        "on a.dynamo_customer_id = b.dynamo_customer_id\n",
        "--poner nombre cliente\n",
        "group by 1,2,3,4,5,6\n",
        "),\n",
        "\n",
        "VR_CARTERAS_DICIEMBRE_TOTALES_NUEVOS as (\n",
        "select\n",
        "mentora,\n",
        "orientador,\n",
        "store_url,\n",
        "count(distinct dynamo_customer_id) as clientes,\n",
        "sum(flag_bono) as clientes_bono,\n",
        "case when clientes_bono >=5 then 1 else 0 end flag_graduado\n",
        "from VR_CARTERAS_DICIEMBRE_FINAL_NUEVOS\n",
        "group by 1,2,3),\n",
        "\n",
        "VR_CARTERAS_DICIEMBRE_TOTALES_2_NUEVOS as (\n",
        "select\n",
        "mentora,\n",
        "a.orientador,\n",
        "truncate((sum(flag_graduado)/b.cartera_nuevos),4) as porc_graduados,\n",
        "b.cartera_nuevos,\n",
        "sum(flag_graduado) as total_graduados,\n",
        "case\n",
        "when porc_graduados >= 0.18 then 150\n",
        "when porc_graduados >= 0.14 then 130\n",
        "when porc_graduados >=0.11 then 100\n",
        "when porc_graduados >= 0.07 then 90\n",
        "when porc_graduados >= 0.04 then 75\n",
        "when porc_graduados >= 0.02 then 60\n",
        "else 0\n",
        "end as ganancia_unitaria,\n",
        "case\n",
        "when porc_graduados >= 0.18 then total_graduados*150\n",
        "when porc_graduados >= 0.14 then total_graduados*130\n",
        "when porc_graduados >= 0.11 then total_graduados*100\n",
        "when porc_graduados >= 0.07 then total_graduados*90\n",
        "when porc_graduados >= 0.04 then total_graduados*75\n",
        "when porc_graduados >= 0.02 then total_graduados*60\n",
        "else 0\n",
        "end as ganancia,\n",
        "case\n",
        "when porc_graduados >= 0.18 then 'max'\n",
        "when 0.14 <= porc_graduados and porc_graduados < 0.18 then 0.18\n",
        "when 0.11 <= porc_graduados and porc_graduados < 0.14 then 0.14\n",
        "when 0.07 <= porc_graduados and porc_graduados < 0.11 then 0.11\n",
        "when 0.04 <= porc_graduados and porc_graduados < 0.07 then 0.07\n",
        "when 0.02 <= porc_graduados and porc_graduados < 0.04 then 0.04\n",
        "else 0.02\n",
        "end as porc_meta,\n",
        "case\n",
        "when porc_graduados >= 0.18 then 'max'\n",
        "when 0.14 <= porc_graduados and porc_graduados < 0.18 then ceil(b.cartera_nuevos*0.18,0)\n",
        "when 0.11 <= porc_graduados and porc_graduados < 0.14 then ceil(b.cartera_nuevos*0.14,0)\n",
        "when 0.07 <= porc_graduados and porc_graduados < 0.11 then ceil(b.cartera_nuevos*0.11,0)\n",
        "when 0.04 <= porc_graduados and porc_graduados < 0.07 then ceil(b.cartera_nuevos*0.07,0)\n",
        "when 0.02 <= porc_graduados and porc_graduados < 0.04 then ceil(b.cartera_nuevos*0.04,0)\n",
        "else ceil(b.cartera_nuevos*0.02,0)\n",
        "end as emprendedores_meta\n",
        "from VR_CARTERAS_DICIEMBRE_TOTALES_NUEVOS as a\n",
        "left join FAVODATA.SNP_UNTRUSTED.CARTERAS_DICIEMBRE_TOTAL as b\n",
        "on a.orientador = b.orientador\n",
        "group by 1,2,4)\n",
        "\n",
        "{0}\n",
        "\n",
        "'''"
      ],
      "metadata": {
        "id": "6USqm96Exvqu"
      },
      "execution_count": null,
      "outputs": []
    },
    {
      "cell_type": "code",
      "source": [
        "QUERY_VR_CARTERAS_DICIEMBRE_FINAL = query_creacion_old.format( '''select * from VR_CARTERAS_DICIEMBRE_FINAL;''')\n"
      ],
      "metadata": {
        "id": "uARcbEsev96a"
      },
      "execution_count": null,
      "outputs": []
    },
    {
      "cell_type": "code",
      "execution_count": null,
      "metadata": {
        "id": "shThHJQR0Xic"
      },
      "outputs": [],
      "source": [
        "QUERY_VR_CARTERAS_DICIEMBRE_TOTALES_2 = query_creacion_old.format( '''SELECT * FROM VR_CARTERAS_DICIEMBRE_TOTALES_2; ''')"
      ]
    },
    {
      "cell_type": "code",
      "source": [
        "QUERY_VR_CARTERAS_DICIEMBRE_FINAL_NUEVOS = query_creacion_new.format( '''select * from VR_CARTERAS_DICIEMBRE_FINAL_NUEVOS;''')"
      ],
      "metadata": {
        "id": "JzQdhf5-x3dV"
      },
      "execution_count": null,
      "outputs": []
    },
    {
      "cell_type": "code",
      "source": [
        "QUERY_VR_CARTERAS_DICIEMBRE_TOTALES_2_NUEVOS = query_creacion_new.format( '''SELECT * FROM VR_CARTERAS_DICIEMBRE_TOTALES_2_NUEVOS;''')"
      ],
      "metadata": {
        "id": "phnGlBAMx3Xq"
      },
      "execution_count": null,
      "outputs": []
    },
    {
      "cell_type": "code",
      "execution_count": null,
      "metadata": {
        "id": "1k_I3mWNegdG"
      },
      "outputs": [],
      "source": [
        "QUERY_COMISIONES = '''\n",
        "select\n",
        "cast(c.create_date_tz as date) as creation_date, \n",
        "cast(a.create_date_time_tz as date) as calendar_date,\n",
        "cast(date_trunc(month, a.create_date_time_tz) as date) as calendar_month,\n",
        "case when extract(day from calendar_date)<=15 then 1 else 2 end as quincena,\n",
        "a.store_url,\n",
        "a.leader_name,\n",
        "b.tier_net_lm,\n",
        "sum(net_value) AS total,\n",
        "sum(total) over (partition by a.store_url,quincena,date_trunc('month',calendar_date)) as venta_quincenal,\n",
        "case \n",
        "when creation_date >= '2022-07-01' then 'De 5% a 10%'\n",
        "when creation_date < '2022-07-01' then 'De 8% a 15%'\n",
        "else ''\n",
        "end as comision\n",
        "from journey.base as a\n",
        "left join FAVODATA.SNP_SANDBOX.AN_ENTREP_TIER_TEST as b\n",
        "on a.store_url = b.store_url and date_trunc('month',calendar_date) = b.calendar_month \n",
        "left join journey.entrep as c \n",
        "on a.store_url = c.store_url\n",
        "where create_date_time is not null and order_status not in ('CANCEL' ,'OPEN') and cancel_date_time_tz is null and calendar_month > '2022-11-01'\n",
        "group by 1,2,3,4,5,6,7\n",
        "order by 1 desc\n",
        "'''"
      ]
    },
    {
      "cell_type": "code",
      "execution_count": null,
      "metadata": {
        "id": "xdxYOpZz0Xid",
        "colab": {
          "base_uri": "https://localhost:8080/"
        },
        "outputId": "501318a3-67bf-48fe-cbca-17aecb9848c5"
      },
      "outputs": [
        {
          "name": "stdout",
          "output_type": "stream",
          "text": [
            "Initiating login request with your identity provider. A browser window should have opened for you to complete the login. If you can't see it, check existing browser windows, or your OS settings. Press CTRL+C to abort and try again...\n",
            "We were unable to open a browser window for you, please open the following url manually then paste the URL you are redirected to into the terminal.\n",
            "URL: https://accounts.google.com/o/saml2/idp?idpid=C028iow4v&SAMLRequest=lZJfb9owFMW%2FSuQ9J3YcqlGLgAKsWyRWUEn%2FaG9eYsDCsYOvQ8o%2B%2FUwoUvfQSnuwZNnn%2BP6uzx1NXmsVHIUFaXSK4oigQOjSVFJvU%2FRY3IVDFIDjuuLKaJGikwA0GY%2BA16phWet2%2BkEcWgEu8A9pYP1FilqrmeEggWleC2CuZOvs54LRiLDGGmdKo9A7y%2BcODiCs84RXSwXS4%2B2caxjGXddFXRIZu8WUEILJLfaqs%2BTLVf%2Fqe%2FpAH2MyOOu9wstXb2xTqS9f8BnW74sI2I%2BiWIWr5bpAQXZFnRkNbS3sWtijLMXjw%2BICAJ7gqcjIcJDQqIVQcHBhHIE23UbxvShN3bTOPxv5Hd6ICiuzlb7zfJ6iZi%2BrZ3X6bg6LbCm%2FHkrCQf1xt%2Fvpty7bJ5ubKWQ8f5HJTudLYUoUPF2jpedoc4BW5PocqPNHhNIwpiFNinjAboYsplEyjH%2BhYO4DlZq73nml5mVpWu0g2hqzVaLnM%2FicHsWyaiZ%2BySqdETqUphsc0WVKWF%2FTjv%2B79xF%2Bb3%2BbuHsfQj5fGSXLU3BnbM3dxxnFUdyfyCrc9FImai5VVlVWAPislDLdzAru%2FGA72wqEx5eq%2F472%2BC8%3D&RelayState=33751\n",
            "Enter the URL the SSO URL redirected you to: http://localhost:33751/?token=rVfblqLIEn33K1z2o10lNxVcbc0BBERFC1RQX85KILnIJZGLKF9_UEu7qqa7p-fMvJFB5I6InZl7RXz74xSFzSNMMx_Fwxb-jLWaMLaQ7cfusLVeiU90q5nlILZBiGI4bMWo9cfLtwxEIZEMNJglKM5gswaJs8HNOmwVaTxAIPOzQQwimA1ya7BkldmAeMYGSYpyZKGw1RzBLPdjkF8De3meZINOR1-xGE2RxHORPUGQ5U_4cxaj0glBAC0UJUW9xX2uvzoOtDshcv241ZRHw9Z_mR6Okw7hmBSOUz0H0BZTL2kGpwFjkxhRu8X3fFdo2EoC3zbCs4QOM3bh9w8WBrKwypmAE0o2IJ0ul7FA3vikF8sLiKx6f5YVUI4vbOTDFoERxBNOPBHkCqcGXXpAdJ_pPr5rNfU7m3W9rTeuBtfN6Xuifs0TyDKYXrhpvdy5AZaFijjPnl2E3BBeWUCdK9Yfvp349pDHCNpHJXX81nkf9XFeyxzkRfZpySMbNnUQFvDXGWVX78GysCyYZa3Oy1uQT7AD9p75_1Ps7Sz7gMEpCpg0IAinC2yGZPoE1rcYiiZxAsB_5Sz-DV7tmg_frS9xkd4fgZ3dbnMNXJblc0k-o9TtEBiGdTCmU_vYme9-aT32QluOHXRd8iBGsW-B0K-uz0KBuYfsJhu6KPVzL_oJMN7BsQvwEzxZTxZOxV8uh_M-td8Gwqh7hk8RSuGXNANPmQeIbu8NUoMOTGuBgM21Jg9bX_76qK7bVimIMwelUfZx-ZcpfSANxkcYogTaT9m9sre0fh_wx2R1_pzjyHdrgfqbzNXMfPnA1w3l-rpe2NFJjuSKsubHbMEpYrJIK66g89Wo6JY0lcHOPp3sgiiR2eE1o_ebr4YH-7flp-vzOO7bDkjrKCsi8sywawm8mkkoFIfDBHFtbCu6IhNslWSznBtnk8P2Pu21_eLccQKMOLziy_Ik4v1l0d0cZHa1ihvbRanzzJ5QlYRRAjfGSb7kCIzdL2q55GYrY7ya9it05mxT2qjGlM5LX8hOWs536Y2098ut0BbUiT-Hxrqx31WHoIwVjxQKCXtl7Fnsdl8lMTpoo5mVRD1_Q_unKMOd3lQfM2TgTElOP_ZlVpR1U9nNFw62ldDY4QPQoLJtmW9TJd2bSY1C2xWMxamgZ1OWDMOSSAWCEhATbj0dartk3jnNu9T4FVDG3p30mFdSXyZye0IdVg7XoEDswkrG27MioYjSqsxXiGu4KY21sFpWeGyoVagOhw_63_F9OYIpPD-OY9PFmBHIwWOxLMw9tPJ5LX8vy9WQr995fd1iH3zlh-vl18V6KF0FqCmitGmgNPjKz99MX2dD5aJRwI-bug_Lr4u7rxxbz9dsPke4R-UvyurUqpLDF0WWR_aI59nw7LKlzLGuLLGbXVot4VJhMYlfHqSlbJIjVeD4cs0q4-wkjtgl5851jkUrHrOPJmFnuyU3aZiRUijathTZ7UhX1bFQ4nOT1AtbEhPT5wxg6KSi0uVIvf4fCeVubBJMbErrkzRijRtothrVoI03VMkkZVcnmDOohJnCBhKLrwXOU3hdV05CxWq3Te6KD-aeKYWRSU4KYAjl2LPmyp49KXuBaCgrBZvvBcy4GtcXI_6w7bm-oqml4F6zmgplfs_KXRrd_WwvGAqn3gKflHljZTC4GWseMChXj8LQroTXC1cXhzqepBHMcUecQkVzS_EGOhNK5gGqRcxZFu2jFWWnBl-xk1sJ2xUb6itFU0rhxo8slMloa5ySXb3BjEKvPixO3rNzzg0OXuBLTIlxrCqILLvgWZVmGxcH3p3WC4FNmFxLtqO10lFRaEu1LCwtnJ6puLCM5JNx9P3JWGr38RXas36vZDYBSCwhc_lz2EVEaTa8cwS0BUUvpkduLp46_TFBFb1lRDPbfB-KapboCIUalZ40CzBGZlrtSXex8RLhLJOL085NctPxsnKN5mTjdPCM-XnnS8ftWDmqxqgv7V_ne4-jNbovzjrqgQgE93VCn1LpsPGtSTJapIx3CtddFCRQ7wkjQdUKZ8E53cb5PKNqsdoqwXizkrE-uduhzVLnO-1NvgGWrRzkvq2ZnX65yTWCsMt1uIF4tz9Hngq79ETZVT2WVSo-TNNGF4nbdGaX5p5uLxJ1YZ2zTbgG0YwUjnSx4HKamYAZl7weBbprrtRZKY9YleV-9DoaLFU_IZWlIpOqReywKL2lRouYvTu31dzVfYHm0wUH-0TlS3EBUrDnInM7KlTFWU-8Y7AIynPQXnSiVTxr1PS5VM8M3S2g8VCcTQ9bEa-cSYyWa8dX5PIk6xI-xZQo6LUFo_ArJLQnkRt4XREr57tp4K0dcUdBccc3ZMQLE0ULJewYntXIFFR_UjfGqEKVzrT3lZV6wk5LtbXVdjLS8uLpiFkAYFbHzYE3dLvqocBKxj2eKp3GLjW8HZGY_Mrg3UOVodg9FJNyRFpVVQnyCmujGUz1yB-HhtNX19qGESbV6wFUZLt74qYTa_Gq7_GVL8l-Q4xqzVFEb44Hxy12GnOzSUEdCYmGmLkmOSxNMp9xphyVWPOHrr3XsIfxpq2d96r7QZXv3d6bKN6XF3GURxeNjUD-87YUf8avFt9-cq6uAxgBP2RtO710vy9HEMLUB88piFD8nwimFrCRA47o0j7e28RbrE-J8Ch2_AvipUW-9Re_7o6taGBCkMK09QukCxv_eMKZo3wRL1LWyWH6savuDjDye1etQctPfHhpvf_J4PYYIX5U0Od_99prH9u_OGSXdDlYnw780wTwLtffrOkxvRS2f-mwaiLz1LdumXz89fK3a76X8kD4bPgQrfO50O8J5F58GbZgVHPfvC5_NgP1Bnj_ue6fawaW9YWtYeTYhqffGa4-hKuzyOEp_5GND-u5rW5JX3452lkD6-JXm4s4S-qL4_jQ_l7_D-B-9POj8cHBd_N9gvw-ld6fwsv_AA==\n"
          ]
        }
      ],
      "source": [
        "### Executes SQL query and data into a Pandas DF\n",
        "df_Carteras_DIC_Totales_2 = pd.read_sql(con = Snowflake_conn,  sql = QUERY_VR_CARTERAS_DICIEMBRE_TOTALES_2)\n",
        "df_Carteras_DIC_Totales_Final = pd.read_sql(con = Snowflake_conn,  sql = QUERY_VR_CARTERAS_DICIEMBRE_FINAL)\n",
        "df_Comisiones = pd.read_sql(con = Snowflake_conn,  sql = QUERY_COMISIONES)\n",
        "df_carteras_dic_final_nuevos = pd.read_sql(con = Snowflake_conn,  sql = QUERY_VR_CARTERAS_DICIEMBRE_FINAL_NUEVOS)\n",
        "df_carteras_dic_totales_nuevos = pd.read_sql(con = Snowflake_conn,  sql = QUERY_VR_CARTERAS_DICIEMBRE_TOTALES_2_NUEVOS)\n"
      ]
    },
    {
      "cell_type": "code",
      "execution_count": null,
      "metadata": {
        "id": "14GOEzSv0Xif"
      },
      "outputs": [],
      "source": [
        "# Librerias de GSheets \n",
        "from google.colab import auth\n",
        "auth.authenticate_user()\n",
        "\n",
        "import gspread\n",
        "from google.auth import default\n"
      ]
    },
    {
      "cell_type": "code",
      "execution_count": null,
      "metadata": {
        "id": "qk-GV0-t0Xig"
      },
      "outputs": [],
      "source": [
        "# Damos acceso a GColab para acceder al Gsheets\n",
        "creds, _ = default()\n",
        "gc = gspread.authorize(creds)\n",
        "\n",
        "# carteras diciembre totales\n",
        "WB_carteras_dic_detalle = gc.open_by_url('https://docs.google.com/spreadsheets/d/1NtlmBt4CiH8mgr_sVPM-bEj8ftxffp7oUSAY-ffZc10/edit?usp=sharing')\n",
        "\n",
        "\n",
        "# carteras diciembre detalle\n",
        "WB_carteras_dic_totales  = gc.open_by_url('https://docs.google.com/spreadsheets/d/14nQu3u09QYcOR3ilisa2yphQQ_xPy9wIHBHCD0AewFw/edit?usp=sharing')\n",
        "\n",
        "\n",
        "# Tracker de comisiones\n",
        "\n",
        "WB_comisiones  = gc.open_by_url('https://docs.google.com/spreadsheets/d/12I1tS7Qtdq1ZJjfcWiWBJKaOMmS3nocgIsFO4j1DhZ4/edit?usp=sharing')\n",
        "\n",
        "\n",
        "# Carteras diciembre totales (nuevos)\n",
        "\n",
        "WB_carteras_dic_totales_nuevos = gc.open_by_url('https://docs.google.com/spreadsheets/d/1sfLAiyVLaPdbZAP21xBMFXyIB47RXqoQoLbEDeomz38/edit?usp=sharing')\n",
        "\n",
        "\n",
        "# Carteras diciembre detalle (nuevos)\n",
        "\n",
        "WB_carteras_dic_detalle_nuevos = gc.open_by_url('https://docs.google.com/spreadsheets/d/199obgz8btVjSGlGPK5eCMdCzHbat8uXlfIX5mkTi9mY/edit?usp=sharing')\n"
      ]
    },
    {
      "cell_type": "code",
      "source": [
        "# preprocesamiento de algunas columnas \n",
        "df_Comisiones['creation_date'] = df_Comisiones['creation_date'].astype(str)\n",
        "df_Comisiones['calendar_date'] = df_Comisiones['calendar_date'].astype(str)\n",
        "df_Comisiones['calendar_month'] = df_Comisiones['calendar_month'].astype(str)"
      ],
      "metadata": {
        "id": "TXkeyMc6s_YC"
      },
      "execution_count": null,
      "outputs": []
    },
    {
      "cell_type": "code",
      "execution_count": null,
      "metadata": {
        "id": "F2deP11U16SR"
      },
      "outputs": [],
      "source": [
        "data_cartera_final = df_Carteras_DIC_Totales_Final.to_numpy().tolist()\n",
        "data_cartera_total = df_Carteras_DIC_Totales_2.to_numpy().tolist()\n",
        "data_comisiones = df_Comisiones.to_numpy().tolist()\n",
        "data_cartera_final_nuevos = df_carteras_dic_final_nuevos.to_numpy().tolist()\n",
        "data_cartera_total_nuevos =  df_carteras_dic_totales_nuevos.to_numpy().tolist()"
      ]
    },
    {
      "cell_type": "code",
      "execution_count": null,
      "metadata": {
        "colab": {
          "base_uri": "https://localhost:8080/"
        },
        "id": "FTYd3ouJ1lCg",
        "outputId": "f74d879e-c6c9-4518-f2e7-ca6c7d7335cd"
      },
      "outputs": [
        {
          "output_type": "execute_result",
          "data": {
            "text/plain": [
              "{'spreadsheetId': '14nQu3u09QYcOR3ilisa2yphQQ_xPy9wIHBHCD0AewFw',\n",
              " 'updatedRange': 'totales!A1:I12',\n",
              " 'updatedRows': 12,\n",
              " 'updatedColumns': 9,\n",
              " 'updatedCells': 108}"
            ]
          },
          "metadata": {},
          "execution_count": 17
        }
      ],
      "source": [
        "headers_cartera_total = [df_Carteras_DIC_Totales_Final.columns.str.upper().to_numpy().tolist()]\n",
        "headers_cartera_final = [df_Carteras_DIC_Totales_2.columns.str.upper().to_numpy().tolist()]\n",
        "data_to_write_total = headers_cartera_final + data_cartera_total\n",
        "# Llamamos a la tabla donde actualizaremos las variables\n",
        "wsTarget = WB_carteras_dic_totales.worksheet('totales')\n",
        "wsTarget.update(None,data_to_write_total)"
      ]
    },
    {
      "cell_type": "code",
      "execution_count": null,
      "metadata": {
        "colab": {
          "base_uri": "https://localhost:8080/"
        },
        "id": "gfUbB5jw2nqC",
        "outputId": "7837af51-109e-4801-8d1a-f7b9a754ec01"
      },
      "outputs": [
        {
          "output_type": "execute_result",
          "data": {
            "text/plain": [
              "{'spreadsheetId': '1NtlmBt4CiH8mgr_sVPM-bEj8ftxffp7oUSAY-ffZc10',\n",
              " 'updatedRange': \"'carteras diciembre'!A1:I2888\",\n",
              " 'updatedRows': 2888,\n",
              " 'updatedColumns': 9,\n",
              " 'updatedCells': 25992}"
            ]
          },
          "metadata": {},
          "execution_count": 18
        }
      ],
      "source": [
        "\n",
        "data_to_write_total =  headers_cartera_total + data_cartera_final\n",
        "# Llamamos a la tabla donde actualizaremos las variables\n",
        "wsTarget = WB_carteras_dic_detalle.worksheet('carteras diciembre')\n",
        "wsTarget.update(None,data_to_write_total)"
      ]
    },
    {
      "cell_type": "code",
      "execution_count": null,
      "metadata": {
        "colab": {
          "base_uri": "https://localhost:8080/"
        },
        "id": "e8yCtcKlpwFN",
        "outputId": "0ec72956-a021-4b97-dd8b-a38213b5e057"
      },
      "outputs": [
        {
          "output_type": "execute_result",
          "data": {
            "text/plain": [
              "{'spreadsheetId': '12I1tS7Qtdq1ZJjfcWiWBJKaOMmS3nocgIsFO4j1DhZ4',\n",
              " 'updatedRange': \"'TRACKER COMISIONES'!A1:J12465\",\n",
              " 'updatedRows': 12465,\n",
              " 'updatedColumns': 10,\n",
              " 'updatedCells': 124650}"
            ]
          },
          "metadata": {},
          "execution_count": 19
        }
      ],
      "source": [
        "headers_comisiones = [df_Comisiones.columns.str.upper().to_numpy().tolist()]\n",
        "data_to_write_total =  headers_comisiones + data_comisiones\n",
        "# Llamamos a la tabla donde actualizaremos las variables\n",
        "wsTarget = WB_comisiones.worksheet('TRACKER COMISIONES')\n",
        "wsTarget.update(None,data_to_write_total)"
      ]
    },
    {
      "cell_type": "code",
      "source": [
        "headers_cartera_final_nuevos = [df_carteras_dic_final_nuevos.columns.str.upper().to_numpy().tolist()]\n",
        "data_to_write_total = headers_cartera_final_nuevos + data_cartera_final_nuevos\n",
        "# Llamamos a la tabla donde actualizaremos las variables\n",
        "wsTarget = WB_carteras_dic_detalle_nuevos.worksheet('carteras diciembre nuevos')\n",
        "wsTarget.update(None,data_to_write_total)"
      ],
      "metadata": {
        "colab": {
          "base_uri": "https://localhost:8080/"
        },
        "id": "Y3z88m7M0Id2",
        "outputId": "989b291f-20f2-42bf-8aac-caa4c3484100"
      },
      "execution_count": null,
      "outputs": [
        {
          "output_type": "execute_result",
          "data": {
            "text/plain": [
              "{'spreadsheetId': '199obgz8btVjSGlGPK5eCMdCzHbat8uXlfIX5mkTi9mY',\n",
              " 'updatedRange': \"'carteras diciembre nuevos'!A1:I297\",\n",
              " 'updatedRows': 297,\n",
              " 'updatedColumns': 9,\n",
              " 'updatedCells': 2673}"
            ]
          },
          "metadata": {},
          "execution_count": 20
        }
      ]
    },
    {
      "cell_type": "code",
      "source": [
        "headers_cartera_total_nuevos = [df_carteras_dic_totales_nuevos.columns.str.upper().to_numpy().tolist()]\n",
        "data_to_write_total = headers_cartera_total_nuevos + data_cartera_total_nuevos\n",
        "# Llamamos a la tabla donde actualizaremos las variables\n",
        "wsTarget = WB_carteras_dic_totales_nuevos.worksheet('carteras diciembre nuevos (1)')\n",
        "wsTarget.update(None,data_to_write_total)"
      ],
      "metadata": {
        "colab": {
          "base_uri": "https://localhost:8080/"
        },
        "id": "SMOqmiNF0IUf",
        "outputId": "ceeda15c-e061-44d4-8d27-738f94f83d8c"
      },
      "execution_count": null,
      "outputs": [
        {
          "output_type": "execute_result",
          "data": {
            "text/plain": [
              "{'spreadsheetId': '1sfLAiyVLaPdbZAP21xBMFXyIB47RXqoQoLbEDeomz38',\n",
              " 'updatedRange': \"'carteras diciembre nuevos (1)'!A1:I12\",\n",
              " 'updatedRows': 12,\n",
              " 'updatedColumns': 9,\n",
              " 'updatedCells': 108}"
            ]
          },
          "metadata": {},
          "execution_count": 21
        }
      ]
    }
  ],
  "metadata": {
    "colab": {
      "provenance": []
    },
    "kernelspec": {
      "display_name": "Python 3",
      "language": "python",
      "name": "python3"
    },
    "language_info": {
      "codemirror_mode": {
        "name": "ipython",
        "version": 3
      },
      "file_extension": ".py",
      "mimetype": "text/x-python",
      "name": "python",
      "nbconvert_exporter": "python",
      "pygments_lexer": "ipython3",
      "version": "3.10.2"
    },
    "vscode": {
      "interpreter": {
        "hash": "9f6eea44a291235dc52858c32be01c98dd8fda28b1c054a3f18149a1d49c6d5f"
      }
    }
  },
  "nbformat": 4,
  "nbformat_minor": 0
}